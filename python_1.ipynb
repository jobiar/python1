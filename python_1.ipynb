{
  "nbformat": 4,
  "nbformat_minor": 0,
  "metadata": {
    "colab": {
      "name": "python_1.ipynb",
      "provenance": [],
      "collapsed_sections": [],
      "include_colab_link": true
    },
    "kernelspec": {
      "name": "python3",
      "display_name": "Python 3"
    }
  },
  "cells": [
    {
      "cell_type": "markdown",
      "metadata": {
        "id": "view-in-github",
        "colab_type": "text"
      },
      "source": [
        "<a href=\"https://colab.research.google.com/github/jobiar/python1/blob/main/python_1.ipynb\" target=\"_parent\"><img src=\"https://colab.research.google.com/assets/colab-badge.svg\" alt=\"Open In Colab\"/></a>"
      ]
    },
    {
      "cell_type": "code",
      "metadata": {
        "id": "qUeA0qxG7ZkW"
      },
      "source": [
        "data = []\r\n",
        "choice = 'random'"
      ],
      "execution_count": null,
      "outputs": []
    },
    {
      "cell_type": "code",
      "metadata": {
        "id": "ruXXauoG79FG"
      },
      "source": [
        "def line():\r\n",
        "    print('---------------')"
      ],
      "execution_count": null,
      "outputs": []
    },
    {
      "cell_type": "code",
      "metadata": {
        "id": "SE33Nz7a8G8y"
      },
      "source": [
        "def show_menu():\r\n",
        "    line()\r\n",
        "    print('MENU')\r\n",
        "    line()\r\n",
        "    print('1. Enroll New Course')\r\n",
        "    print('2. Unenroll Course')\r\n",
        "    print('3. View Course List')\r\n",
        "    print('4. Exit')\r\n",
        "    line()\r\n",
        "    choice = input('Enter your choice: ')\r\n",
        "    return choice"
      ],
      "execution_count": null,
      "outputs": []
    },
    {
      "cell_type": "code",
      "metadata": {
        "colab": {
          "base_uri": "https://localhost:8080/"
        },
        "id": "RfjZgy6n8PaC",
        "outputId": "ad40aca3-d325-4d54-af92-a28b96406094"
      },
      "source": [
        "while choice != '4':\r\n",
        "    choice = show_menu()\r\n",
        "    if choice == '1':\r\n",
        "        item = input('What course you want to enroll ? ')\r\n",
        "        data.append(item)\r\n",
        "        print('Item', item, 'Enrolled')\r\n",
        "    elif choice == '2':\r\n",
        "        item = input('What course you want to unenroll ? ')\r\n",
        "        if item in data:\r\n",
        "            data.remove(item)\r\n",
        "            print('Course Unenrolled', item)\r\n",
        "        else:\r\n",
        "            print('Could not find the course', item)\r\n",
        "    elif choice == '3':\r\n",
        "        print('To-do Course List:')\r\n",
        "        for item in data:\r\n",
        "            print(item)\r\n",
        "    elif choice == '4':\r\n",
        "        print('Thank You')\r\n",
        "    else:\r\n",
        "        print('Please enter one of 1, 2, 3 or 4')"
      ],
      "execution_count": null,
      "outputs": [
        {
          "output_type": "stream",
          "text": [
            "---------------\n",
            "MENU\n",
            "---------------\n",
            "1. Enroll New Course\n",
            "2. Unenroll Course\n",
            "3. View Course List\n",
            "4. Exit\n",
            "---------------\n",
            "Enter your choice: 1\n",
            "What course you want to enroll ? cse111\n",
            "Item cse111 Enrolled\n",
            "---------------\n",
            "MENU\n",
            "---------------\n",
            "1. Enroll New Course\n",
            "2. Unenroll Course\n",
            "3. View Course List\n",
            "4. Exit\n",
            "---------------\n",
            "Enter your choice: 1\n",
            "What course you want to enroll ? cse222\n",
            "Item cse222 Enrolled\n",
            "---------------\n",
            "MENU\n",
            "---------------\n",
            "1. Enroll New Course\n",
            "2. Unenroll Course\n",
            "3. View Course List\n",
            "4. Exit\n",
            "---------------\n",
            "Enter your choice: 1\n",
            "What course you want to enroll ? cse333\n",
            "Item cse333 Enrolled\n",
            "---------------\n",
            "MENU\n",
            "---------------\n",
            "1. Enroll New Course\n",
            "2. Unenroll Course\n",
            "3. View Course List\n",
            "4. Exit\n",
            "---------------\n",
            "Enter your choice: 1\n",
            "What course you want to enroll ? cse444\n",
            "Item cse444 Enrolled\n",
            "---------------\n",
            "MENU\n",
            "---------------\n",
            "1. Enroll New Course\n",
            "2. Unenroll Course\n",
            "3. View Course List\n",
            "4. Exit\n",
            "---------------\n",
            "Enter your choice: 5\n",
            "Please enter one of 1, 2, 3 or 4\n",
            "---------------\n",
            "MENU\n",
            "---------------\n",
            "1. Enroll New Course\n",
            "2. Unenroll Course\n",
            "3. View Course List\n",
            "4. Exit\n",
            "---------------\n",
            "Enter your choice: 3\n",
            "To-do Course List:\n",
            "cse111\n",
            "cse111\n",
            "cse222\n",
            "cse333\n",
            "cse444\n",
            "---------------\n",
            "MENU\n",
            "---------------\n",
            "1. Enroll New Course\n",
            "2. Unenroll Course\n",
            "3. View Course List\n",
            "4. Exit\n",
            "---------------\n",
            "Enter your choice: 2\n",
            "What course you want to unenroll ? cse111\n",
            "Course Unenrolled cse111\n",
            "---------------\n",
            "MENU\n",
            "---------------\n",
            "1. Enroll New Course\n",
            "2. Unenroll Course\n",
            "3. View Course List\n",
            "4. Exit\n",
            "---------------\n",
            "Enter your choice: 3\n",
            "To-do Course List:\n",
            "cse111\n",
            "cse222\n",
            "cse333\n",
            "cse444\n",
            "---------------\n",
            "MENU\n",
            "---------------\n",
            "1. Enroll New Course\n",
            "2. Unenroll Course\n",
            "3. View Course List\n",
            "4. Exit\n",
            "---------------\n",
            "Enter your choice: 4\n",
            "Thank You\n"
          ],
          "name": "stdout"
        }
      ]
    }
  ]
}